{
 "cells": [
  {
   "cell_type": "code",
   "execution_count": 2,
   "id": "271d42b7",
   "metadata": {},
   "outputs": [
    {
     "name": "stdout",
     "output_type": "stream",
     "text": [
      "Requirement already satisfied: python-dotenv in d:\\0_codefile\\pythonproject\\sk_rookies26\\02_ml_dl_project\\tensor_proj\\.venv\\lib\\site-packages (1.1.1)\n",
      "Note: you may need to restart the kernel to use updated packages.\n"
     ]
    }
   ],
   "source": [
    "pip install python-dotenv"
   ]
  },
  {
   "cell_type": "code",
   "execution_count": 3,
   "id": "7e3d32f1",
   "metadata": {},
   "outputs": [
    {
     "name": "stdout",
     "output_type": "stream",
     "text": [
      "Requirement already satisfied: openai in d:\\0_codefile\\pythonproject\\sk_rookies26\\02_ml_dl_project\\tensor_proj\\.venv\\lib\\site-packages (1.91.0)\n",
      "Requirement already satisfied: anyio<5,>=3.5.0 in d:\\0_codefile\\pythonproject\\sk_rookies26\\02_ml_dl_project\\tensor_proj\\.venv\\lib\\site-packages (from openai) (4.9.0)\n",
      "Requirement already satisfied: distro<2,>=1.7.0 in d:\\0_codefile\\pythonproject\\sk_rookies26\\02_ml_dl_project\\tensor_proj\\.venv\\lib\\site-packages (from openai) (1.9.0)\n",
      "Requirement already satisfied: httpx<1,>=0.23.0 in d:\\0_codefile\\pythonproject\\sk_rookies26\\02_ml_dl_project\\tensor_proj\\.venv\\lib\\site-packages (from openai) (0.28.1)\n",
      "Requirement already satisfied: jiter<1,>=0.4.0 in d:\\0_codefile\\pythonproject\\sk_rookies26\\02_ml_dl_project\\tensor_proj\\.venv\\lib\\site-packages (from openai) (0.10.0)\n",
      "Requirement already satisfied: pydantic<3,>=1.9.0 in d:\\0_codefile\\pythonproject\\sk_rookies26\\02_ml_dl_project\\tensor_proj\\.venv\\lib\\site-packages (from openai) (2.11.7)\n",
      "Requirement already satisfied: sniffio in d:\\0_codefile\\pythonproject\\sk_rookies26\\02_ml_dl_project\\tensor_proj\\.venv\\lib\\site-packages (from openai) (1.3.1)\n",
      "Requirement already satisfied: tqdm>4 in d:\\0_codefile\\pythonproject\\sk_rookies26\\02_ml_dl_project\\tensor_proj\\.venv\\lib\\site-packages (from openai) (4.67.1)\n",
      "Requirement already satisfied: typing-extensions<5,>=4.11 in d:\\0_codefile\\pythonproject\\sk_rookies26\\02_ml_dl_project\\tensor_proj\\.venv\\lib\\site-packages (from openai) (4.14.0)\n",
      "Requirement already satisfied: exceptiongroup>=1.0.2 in d:\\0_codefile\\pythonproject\\sk_rookies26\\02_ml_dl_project\\tensor_proj\\.venv\\lib\\site-packages (from anyio<5,>=3.5.0->openai) (1.3.0)\n",
      "Requirement already satisfied: idna>=2.8 in d:\\0_codefile\\pythonproject\\sk_rookies26\\02_ml_dl_project\\tensor_proj\\.venv\\lib\\site-packages (from anyio<5,>=3.5.0->openai) (3.10)\n",
      "Requirement already satisfied: certifi in d:\\0_codefile\\pythonproject\\sk_rookies26\\02_ml_dl_project\\tensor_proj\\.venv\\lib\\site-packages (from httpx<1,>=0.23.0->openai) (2025.6.15)\n",
      "Requirement already satisfied: httpcore==1.* in d:\\0_codefile\\pythonproject\\sk_rookies26\\02_ml_dl_project\\tensor_proj\\.venv\\lib\\site-packages (from httpx<1,>=0.23.0->openai) (1.0.9)\n",
      "Requirement already satisfied: h11>=0.16 in d:\\0_codefile\\pythonproject\\sk_rookies26\\02_ml_dl_project\\tensor_proj\\.venv\\lib\\site-packages (from httpcore==1.*->httpx<1,>=0.23.0->openai) (0.16.0)\n",
      "Requirement already satisfied: annotated-types>=0.6.0 in d:\\0_codefile\\pythonproject\\sk_rookies26\\02_ml_dl_project\\tensor_proj\\.venv\\lib\\site-packages (from pydantic<3,>=1.9.0->openai) (0.7.0)\n",
      "Requirement already satisfied: pydantic-core==2.33.2 in d:\\0_codefile\\pythonproject\\sk_rookies26\\02_ml_dl_project\\tensor_proj\\.venv\\lib\\site-packages (from pydantic<3,>=1.9.0->openai) (2.33.2)\n",
      "Requirement already satisfied: typing-inspection>=0.4.0 in d:\\0_codefile\\pythonproject\\sk_rookies26\\02_ml_dl_project\\tensor_proj\\.venv\\lib\\site-packages (from pydantic<3,>=1.9.0->openai) (0.4.1)\n",
      "Requirement already satisfied: colorama in d:\\0_codefile\\pythonproject\\sk_rookies26\\02_ml_dl_project\\tensor_proj\\.venv\\lib\\site-packages (from tqdm>4->openai) (0.4.6)\n",
      "Note: you may need to restart the kernel to use updated packages.\n"
     ]
    }
   ],
   "source": [
    "pip install openai"
   ]
  },
  {
   "cell_type": "code",
   "execution_count": 4,
   "id": "5ae4f5a0",
   "metadata": {},
   "outputs": [],
   "source": [
    "from dotenv import load_dotenv\n",
    "import os\n",
    "\n",
    "load_dotenv()\n",
    "\n",
    "OPENAI_API_KEY = os.getenv('OPENAI_API_KEY')\n",
    "\n",
    "#print('key:', OPENAI_API_KEY)"
   ]
  },
  {
   "cell_type": "code",
   "execution_count": 5,
   "id": "9e2fef8e",
   "metadata": {},
   "outputs": [],
   "source": [
    "from openai import OpenAI\n",
    "\n",
    "client =  OpenAI(api_key=OPENAI_API_KEY)"
   ]
  },
  {
   "cell_type": "code",
   "execution_count": 6,
   "id": "507c0b6f",
   "metadata": {},
   "outputs": [],
   "source": [
    "from openai import OpenAI\n",
    "\n",
    "client =  OpenAI(api_key=OPENAI_API_KEY)\n",
    "\n",
    "response = client.responses.create(\n",
    "    model='gpt-4.1',\n",
    "    input='스타워즈 시리즈의 다스베이더의 역할에 대해 한줄로 설벙해줘'\n",
    ")"
   ]
  },
  {
   "cell_type": "code",
   "execution_count": 7,
   "id": "100a5e64",
   "metadata": {},
   "outputs": [
    {
     "data": {
      "text/plain": [
       "'다스베이더는 스타워즈 시리즈에서 포스를 어둠의 편에 사용하며 은하 제국의 상징적인 악역으로 등장하는 캐릭터입니다.'"
      ]
     },
     "execution_count": 7,
     "metadata": {},
     "output_type": "execute_result"
    }
   ],
   "source": [
    "response.output_text"
   ]
  },
  {
   "cell_type": "code",
   "execution_count": 8,
   "id": "092ff570",
   "metadata": {},
   "outputs": [
    {
     "name": "stdout",
     "output_type": "stream",
     "text": [
      "다스 베이더는 스타워즈 시리즈에서 과거의 영웅이자 타락한 제다이로, 은하 제국의 위협과 아버지로서의 비극을 상징하는 아이콘이다.\n"
     ]
    }
   ],
   "source": [
    "response = client.responses.create(\n",
    "    model='gpt-4.1',\n",
    "    instructions='당신은 영화평론가야!',\n",
    "    input='스타워즈 시리즈의 다스베이더의 역할에 대해 한줄로 설명해줘'\n",
    ")\n",
    "print(response.output_text)"
   ]
  },
  {
   "cell_type": "code",
   "execution_count": 9,
   "metadata": {},
   "outputs": [
    {
     "name": "stdout",
     "output_type": "stream",
     "text": [
      "오늘은 특별히 어떤 음식이 땡기나요? 아니면, 간단하게 추천을 해줄까요?\n",
      "\n",
      "예를 들어,\n",
      "\n",
      "- **한식**: 집밥 느낌 나는 김치찌개, 제육볶음, 비빔밥\n",
      "- **중식**: 짜장면, 탕수육, 마파두부\n",
      "- **일식**: 스시, 카레, 규동\n",
      "- **양식**: 파스타, 스테이크, 샐러드, 치킨\n",
      "- **분식**: 떡볶이, 순대, 김밥, 라면\n",
      "\n",
      "집에 있는 재료를 알려주시면 활용할 레시피도 추천드릴 수 있어요!  \n",
      "혹시 기분이나 상황(혼밥, 가족과, 친구와 등)에 맞춰서도 추천해 드릴 수 있습니다 :)\n",
      "\n",
      "조금만 더 힌트를 주시면 더 딱 맞는 메뉴를 추천해 드릴 수 있어요!\n"
     ]
    }
   ],
   "source": [
    "response = client.responses.create(\n",
    "    model='gpt-4.1',\n",
    "    input=[\n",
    "        {\n",
    "            'role': 'developer',\n",
    "            'content': '음식에 대한 이야기 하는것을 좋아해'\n",
    "        },\n",
    "        {\n",
    "            'role': 'user',\n",
    "            'content': '오늘은 무엇을 먹을까?'\n",
    "        }\n",
    "    ]\n",
    ")\n",
    "print(response.output_text)"
   ]
  },
  {
   "cell_type": "code",
   "execution_count": 10,
   "id": "432da534",
   "metadata": {},
   "outputs": [],
   "source": [
    "completion = client.chat.completions.create(\n",
    "    model='gpt-4.1',\n",
    "    messages= [\n",
    "        {\n",
    "            'role': 'user',\n",
    "            'content': '스타워즈시리즈에 대해 한분장으로 설명해줘'\n",
    "        }\n",
    "    ]  \n",
    ")\n"
   ]
  },
  {
   "cell_type": "code",
   "execution_count": 11,
   "id": "9d2de517",
   "metadata": {},
   "outputs": [
    {
     "data": {
      "text/plain": [
       "'스타워즈 시리즈는 은하계의 선과 악의 대결, 제다이와 시스, 다양한 캐릭터와 종족이 등장하는 광대한 세계관 속에서 자유와 정의, 가족과 운명을 다루는 SF 판타지 영화 시리즈입니다.'"
      ]
     },
     "execution_count": 11,
     "metadata": {},
     "output_type": "execute_result"
    }
   ],
   "source": [
    "#dict(completion.choices[0])\n",
    "completion.choices[0].message.content"
   ]
  },
  {
   "cell_type": "code",
   "execution_count": 12,
   "id": "1f60b9ba",
   "metadata": {},
   "outputs": [
    {
     "name": "stdout",
     "output_type": "stream",
     "text": [
      "질문: \n",
      "안녕~! 우리 친구 반가워요😊 오늘은 어떤 재미있는 이야기를 들려줄까? 궁금한 게 있으면 뭐든지 물어봐도 돼요! 선생님이 친절하게 설명해줄게요. 우리 다 같이 즐겁게 놀면서 배워볼까요?👋✨\n"
     ]
    }
   ],
   "source": [
    "user_input = input('안녕하세요. 무엇이 굼금하신가요? 질문을 남겨주세요!!!')\n",
    "print('질문:', user_input)\n",
    "\n",
    "response = client.responses.create(\n",
    "    model='gpt-4.1',\n",
    "    input=[\n",
    "        {\n",
    "            'role': 'developer',\n",
    "            'content': '너는 유치원 선생님이야. 아이들을 대하는것처럼 이야기해줘'\n",
    "        },\n",
    "        {\n",
    "            'role': 'user',\n",
    "            'content': user_input\n",
    "        }\n",
    "    ]\n",
    ")\n",
    "print(response.output_text)"
   ]
  },
  {
   "cell_type": "markdown",
   "id": "45a60bc3",
   "metadata": {},
   "source": []
  },
  {
   "cell_type": "code",
   "execution_count": 13,
   "id": "36193db6",
   "metadata": {},
   "outputs": [],
   "source": [
    "import requests\n",
    "\n",
    "def get_weather(latitude, longitude):\n",
    "    response = requests.get(f\"https://api.open-meteo.com/v1/forecast?latitude={latitude}&longitude={longitude}&current=temperature_2m,wind_speed_10m&hourly=temperature_2m,relative_humidity_2m,wind_speed_10m\")\n",
    "    data = response.json()\n",
    "    return data['current']['temperature_2m']"
   ]
  },
  {
   "cell_type": "code",
   "execution_count": 14,
   "id": "f77d2e91",
   "metadata": {},
   "outputs": [],
   "source": [
    "tools = [{\n",
    "    \"type\": \"function\",\n",
    "    \"name\": \"get_weather\",\n",
    "    \"description\": \"Get current temperature for provided coordinates in celsius.\",\n",
    "    \"parameters\": {\n",
    "        \"type\": \"object\",\n",
    "        \"properties\": {\n",
    "            \"latitude\": {\"type\": \"number\"},\n",
    "            \"longitude\": {\"type\": \"number\"}\n",
    "        },\n",
    "    \"required\": [\"latitude\", \"longitude\"],\n",
    "    \"additionalProperties\": False\n",
    "    },\n",
    "    \"strict\": True\n",
    "}]"
   ]
  },
  {
   "cell_type": "code",
   "execution_count": 15,
   "id": "e07ed015",
   "metadata": {},
   "outputs": [],
   "source": [
    "input_messages = [{ 'role': 'user', 'content':'오늘 파리 날씨 어때?'}]\n",
    "\n",
    "# 함수 호출하는 기능\n",
    "response = client.responses.create(\n",
    "    model='gpt-4.1',\n",
    "    input=input_messages,\n",
    "    tools=tools\n",
    ")"
   ]
  },
  {
   "cell_type": "code",
   "execution_count": 16,
   "id": "43d806cd",
   "metadata": {},
   "outputs": [
    {
     "data": {
      "text/plain": [
       "{'arguments': '{\"latitude\":48.8566,\"longitude\":2.3522}',\n",
       " 'call_id': 'call_0OEmbaeoLDqcTXOiuHPDeGjS',\n",
       " 'name': 'get_weather',\n",
       " 'type': 'function_call',\n",
       " 'id': 'fc_685cd00d0f4081998d310291b6f4bd2c06ac7c96e5934b8a',\n",
       " 'status': 'completed'}"
      ]
     },
     "execution_count": 16,
     "metadata": {},
     "output_type": "execute_result"
    }
   ],
   "source": [
    "dict(response.output[0])"
   ]
  },
  {
   "cell_type": "code",
   "execution_count": 17,
   "id": "725b06b6",
   "metadata": {},
   "outputs": [
    {
     "name": "stdout",
     "output_type": "stream",
     "text": [
      "20.5\n"
     ]
    }
   ],
   "source": [
    "import json\n",
    "\n",
    "tool_call = response.output[0]\n",
    "args = json.loads(tool_call.arguments)\n",
    "\n",
    "result = get_weather(args[\"latitude\"], args[\"longitude\"])\n",
    "print(result)"
   ]
  },
  {
   "cell_type": "code",
   "execution_count": 18,
   "id": "fc89eafd",
   "metadata": {},
   "outputs": [
    {
     "name": "stdout",
     "output_type": "stream",
     "text": [
      "오늘 파리의 현재 기온은 약 20.5°C입니다. 쾌적한 날씨네요! 다른 정보가 필요하신가요?\n"
     ]
    }
   ],
   "source": [
    "input_messages.append(tool_call)\n",
    "input_messages.append({\n",
    "    'type' : 'function_call_output',\n",
    "    'call_id': tool_call.call_id,\n",
    "    'output': str(result)\n",
    "})\n",
    "\n",
    "# 최종 응답\n",
    "response2 = client.responses.create(\n",
    "    model='gpt-4.1',\n",
    "    input=input_messages,\n",
    "    tools=tools\n",
    ")\n",
    "\n",
    "print(response2.output_text)"
   ]
  },
  {
   "cell_type": "code",
   "execution_count": 19,
   "id": "d36efb47",
   "metadata": {},
   "outputs": [],
   "source": [
    "from tools.basic_tools import calculate_age, convert_currency, calculate_bmi"
   ]
  },
  {
   "cell_type": "code",
   "execution_count": 20,
   "id": "8d295288",
   "metadata": {},
   "outputs": [],
   "source": [
    "fn_tools = [\n",
    "    {\n",
    "        \"type\": \"function\",\n",
    "        \"name\": \"calculate_age\",\n",
    "        \"description\": \"입력된 생년월일(YYYY-mm-dd)로 만 나이를 계산합니다.\",\n",
    "        \"parameters\": {\n",
    "            \"type\": \"object\",\n",
    "            \"properties\": {\n",
    "                \"birthdate\": {\"type\": \"string\", \"description\": \"생년월일, 형식:YYYY-MM-DD\"}\n",
    "            },\n",
    "        \"required\": [\"birthdate\"],\n",
    "        \"additionalProperties\": False\n",
    "        },\n",
    "        \"strict\": True\n",
    "    },\n",
    "    {\n",
    "        \"type\": \"function\",\n",
    "        \"name\": \"convert_currency\",\n",
    "        \"description\": \"입력된 달러(USD)를 원화(KRW)로 변환합니다.\",\n",
    "        \"parameters\": {\n",
    "            \"type\": \"object\",\n",
    "            \"properties\": {\n",
    "                \"amount\": {\"type\": \"number\", \"description\": \"달러(USD) 금액\"}\n",
    "            },\n",
    "        \"required\": [\"amount\"],\n",
    "        \"additionalProperties\": False\n",
    "        },\n",
    "        \"strict\": True\n",
    "    },\n",
    "    {\n",
    "        \"type\": \"function\",\n",
    "        \"name\": \"calculate_bmi\",\n",
    "        \"description\": \"키(cm), 몸무게(kg) 정보를 받아서 BMI를 계산합니다.\",\n",
    "        \"parameters\": {\n",
    "            \"type\": \"object\",\n",
    "            \"properties\": {\n",
    "                \"height\": {\"type\": \"number\", \"description\": \"키(cm)\"},\n",
    "                \"weight\": {\"type\": \"number\", \"description\": \"몸무게(cm)\"}\n",
    "            },\n",
    "        \"required\": [\"height\", \"weight\"],\n",
    "        \"additionalProperties\": False\n",
    "        },\n",
    "        \"strict\": True\n",
    "    }\n",
    "]"
   ]
  },
  {
   "cell_type": "code",
   "execution_count": 21,
   "id": "04c8e850",
   "metadata": {},
   "outputs": [
    {
     "name": "stdout",
     "output_type": "stream",
     "text": [
      "[ResponseFunctionToolCall(arguments='{\"birthdate\":\"1990-01-01\"}', call_id='call_4Kz3UbOCOzmJNFmyH4v3CiuF', name='calculate_age', type='function_call', id='fc_685cd01066a88198a8903887aed2241705ab1123ab438b36', status='completed'), ResponseFunctionToolCall(arguments='{\"amount\":100}', call_id='call_jCSn5QhgIzSr3uWxwsIPALAg', name='convert_currency', type='function_call', id='fc_685cd0107d3481988506d56f880eee4105ab1123ab438b36', status='completed'), ResponseFunctionToolCall(arguments='{\"height\":190,\"weight\":50}', call_id='call_suwPRZVGnmaooTmOtVRylaA6', name='calculate_bmi', type='function_call', id='fc_685cd010945c8198bcc7e2bd7b1ace0e05ab1123ab438b36', status='completed')]\n",
      "\n"
     ]
    }
   ],
   "source": [
    "input_messages = [\n",
    "    {\n",
    "        \"role\" : \"user\",\n",
    "        \"content\": \"내 생일은 1990-01-01 이고, 100 달러를 가지고 있는데 원화로 변환해줘, 그리고 내 키는 190cm 이고 몸무게는 50kg 이야 BMI 점수를 알려줘\"\n",
    "    }\n",
    "]\n",
    "\n",
    "response = client.responses.create(\n",
    "    model='gpt-4.1',\n",
    "    input=input_messages,\n",
    "    tools=fn_tools\n",
    ")\n",
    "\n",
    "print(response.output)\n",
    "print(response.output_text)"
   ]
  },
  {
   "cell_type": "code",
   "execution_count": 22,
   "id": "c395f79f",
   "metadata": {},
   "outputs": [
    {
     "name": "stdout",
     "output_type": "stream",
     "text": [
      "ResponseFunctionToolCall(arguments='{\"birthdate\":\"1990-01-01\"}', call_id='call_4Kz3UbOCOzmJNFmyH4v3CiuF', name='calculate_age', type='function_call', id='fc_685cd01066a88198a8903887aed2241705ab1123ab438b36', status='completed')\n",
      "ResponseFunctionToolCall(arguments='{\"amount\":100}', call_id='call_jCSn5QhgIzSr3uWxwsIPALAg', name='convert_currency', type='function_call', id='fc_685cd0107d3481988506d56f880eee4105ab1123ab438b36', status='completed')\n",
      "ResponseFunctionToolCall(arguments='{\"height\":190,\"weight\":50}', call_id='call_suwPRZVGnmaooTmOtVRylaA6', name='calculate_bmi', type='function_call', id='fc_685cd010945c8198bcc7e2bd7b1ace0e05ab1123ab438b36', status='completed')\n"
     ]
    }
   ],
   "source": [
    "print(response.output[0])\n",
    "print(response.output[1])\n",
    "print(response.output[2])"
   ]
  },
  {
   "cell_type": "code",
   "execution_count": 23,
   "id": "80de64f0",
   "metadata": {},
   "outputs": [
    {
     "name": "stdout",
     "output_type": "stream",
     "text": [
      "호출 도구:calculate_age\n",
      "매개변수: {\"birthdate\":\"1990-01-01\"}\n",
      "호출 도구:convert_currency\n",
      "매개변수: {\"amount\":100}\n",
      "호출 도구:calculate_bmi\n",
      "매개변수: {\"height\":190,\"weight\":50}\n",
      "[{'role': 'user', 'content': '내 생일은 1990-01-01 이고, 100 달러를 가지고 있는데 원화로 변환해줘, 그리고 내 키는 190cm 이고 몸무게는 50kg 이야 BMI 점수를 알려줘'}, ResponseFunctionToolCall(arguments='{\"birthdate\":\"1990-01-01\"}', call_id='call_4Kz3UbOCOzmJNFmyH4v3CiuF', name='calculate_age', type='function_call', id='fc_685cd01066a88198a8903887aed2241705ab1123ab438b36', status='completed'), {'type': 'function_call_output', 'call_id': 'call_4Kz3UbOCOzmJNFmyH4v3CiuF', 'output': '35'}, ResponseFunctionToolCall(arguments='{\"amount\":100}', call_id='call_jCSn5QhgIzSr3uWxwsIPALAg', name='convert_currency', type='function_call', id='fc_685cd0107d3481988506d56f880eee4105ab1123ab438b36', status='completed'), {'type': 'function_call_output', 'call_id': 'call_jCSn5QhgIzSr3uWxwsIPALAg', 'output': '133000'}, ResponseFunctionToolCall(arguments='{\"height\":190,\"weight\":50}', call_id='call_suwPRZVGnmaooTmOtVRylaA6', name='calculate_bmi', type='function_call', id='fc_685cd010945c8198bcc7e2bd7b1ace0e05ab1123ab438b36', status='completed'), {'type': 'function_call_output', 'call_id': 'call_suwPRZVGnmaooTmOtVRylaA6', 'output': '13.85'}]\n"
     ]
    }
   ],
   "source": [
    "import json\n",
    "\n",
    "if response.output :\n",
    "    for tool_call in response.output:\n",
    "        if tool_call.type == 'function_call':\n",
    "            if tool_call.name == 'calculate_age':\n",
    "                print(f'호출 도구:{tool_call.name}')\n",
    "                print(f'매개변수: {tool_call.arguments}')\n",
    "                # 매개변수 추출\n",
    "                args = json.loads(tool_call.arguments)\n",
    "                # 함수 실행 결과\n",
    "                result = calculate_age(args['birthdate'])\n",
    "                input_messages.append(tool_call)\n",
    "                input_messages.append({\n",
    "                    \"type\" : \"function_call_output\",\n",
    "                    \"call_id\": tool_call.call_id,\n",
    "                    \"output\": str(result)\n",
    "                })\n",
    "            \n",
    "            \n",
    "            if tool_call.name == 'convert_currency':\n",
    "                print(f'호출 도구:{tool_call.name}')\n",
    "                print(f'매개변수: {tool_call.arguments}')\n",
    "\n",
    "                # 매개변수 추출\n",
    "                args = json.loads(tool_call.arguments)\n",
    "\n",
    "                # 함수 실행 결과\n",
    "                result = convert_currency(args['amount'])\n",
    "\n",
    "                input_messages.append(tool_call)\n",
    "                input_messages.append({\n",
    "                    \"type\" : \"function_call_output\",\n",
    "                    \"call_id\": tool_call.call_id,\n",
    "                    \"output\": str(result)\n",
    "                })\n",
    "            \n",
    "            if tool_call.name == 'calculate_bmi':\n",
    "                print(f'호출 도구:{tool_call.name}')\n",
    "                print(f'매개변수: {tool_call.arguments}')\n",
    "\n",
    "                # 매개변수 추출\n",
    "                args = json.loads(tool_call.arguments)\n",
    "\n",
    "                # 함수 실행 결과\n",
    "                result = calculate_bmi(args['height'],args['weight'])\n",
    "\n",
    "                input_messages.append(tool_call)\n",
    "                input_messages.append({\n",
    "                    \"type\" : \"function_call_output\",\n",
    "                    \"call_id\": tool_call.call_id,\n",
    "                    \"output\": str(result)\n",
    "                })\n",
    "\n",
    "print(input_messages)\n",
    "            "
   ]
  },
  {
   "cell_type": "code",
   "execution_count": 24,
   "id": "8d1bf33c",
   "metadata": {},
   "outputs": [
    {
     "name": "stdout",
     "output_type": "stream",
     "text": [
      "- 만 나이는 35세입니다.\n",
      "- 100달러는 약 133,000원입니다.\n",
      "- 키 190cm, 몸무게 50kg 기준 BMI는 13.85로, 저체중에 해당합니다.\n"
     ]
    }
   ],
   "source": [
    "response_msg = client.responses.create(\n",
    "    model='gpt-4.1',\n",
    "    input=input_messages,\n",
    "    tools=fn_tools\n",
    ")\n",
    "\n",
    "print(response_msg.output_text)"
   ]
  },
  {
   "cell_type": "markdown",
   "id": "49b9ac3c",
   "metadata": {},
   "source": [
    "### File Search"
   ]
  },
  {
   "cell_type": "code",
   "execution_count": 27,
   "id": "4829e83f",
   "metadata": {},
   "outputs": [],
   "source": [
    "import requests\n",
    "from io import BytesIO\n",
    "#from openai import OpenAI\n",
    "\n",
    "#client = OpenAI()\n",
    "\n",
    "def create_file(client, file_path):\n",
    "    if file_path.startswith(\"http://\") or file_path.startswith(\"https://\"):\n",
    "        # Download the file content from the URL\n",
    "        response = requests.get(file_path)\n",
    "        file_content = BytesIO(response.content)\n",
    "        file_name = file_path.split(\"/\")[-1]\n",
    "        file_tuple = (file_name, file_content)\n",
    "        result = client.files.create(\n",
    "            file=file_tuple,\n",
    "            purpose=\"assistants\"\n",
    "        )\n",
    "    else:\n",
    "        # Handle local file path\n",
    "        with open(file_path, \"rb\") as file_content:\n",
    "            result = client.files.create(\n",
    "                file=file_content,\n",
    "                purpose=\"assistants\"\n",
    "            )\n",
    "    print(result.id)\n",
    "    return result.id"
   ]
  },
  {
   "cell_type": "code",
   "execution_count": 33,
   "id": "f34382cc",
   "metadata": {},
   "outputs": [
    {
     "name": "stdout",
     "output_type": "stream",
     "text": [
      "file-1TYoyaaBCuda9UZk83cnS4\n"
     ]
    }
   ],
   "source": [
    "file_id = create_file(client, './howto-sockets.pdf')"
   ]
  },
  {
   "cell_type": "code",
   "execution_count": 34,
   "id": "cc15ac83",
   "metadata": {},
   "outputs": [
    {
     "name": "stdout",
     "output_type": "stream",
     "text": [
      "vs_685cd181f51c8191a1917d95f8c9fd1a\n"
     ]
    }
   ],
   "source": [
    "vector_store = client.vector_stores.create(\n",
    "    name='knowledge_base'\n",
    ")\n",
    "\n",
    "print(vector_store.id)"
   ]
  },
  {
   "cell_type": "code",
   "execution_count": 35,
   "id": "807ce23e",
   "metadata": {},
   "outputs": [
    {
     "data": {
      "text/plain": [
       "VectorStoreFile(id='file-1TYoyaaBCuda9UZk83cnS4', created_at=1750913410, last_error=None, object='vector_store.file', status='in_progress', usage_bytes=0, vector_store_id='vs_685cd181f51c8191a1917d95f8c9fd1a', attributes={}, chunking_strategy=StaticFileChunkingStrategyObject(static=StaticFileChunkingStrategy(chunk_overlap_tokens=400, max_chunk_size_tokens=800), type='static'))"
      ]
     },
     "execution_count": 35,
     "metadata": {},
     "output_type": "execute_result"
    }
   ],
   "source": [
    "client.vector_stores.files.create(\n",
    "    vector_store_id=vector_store.id,\n",
    "    file_id=file_id\n",
    ")"
   ]
  },
  {
   "cell_type": "code",
   "execution_count": 36,
   "id": "30d4f550",
   "metadata": {},
   "outputs": [
    {
     "name": "stdout",
     "output_type": "stream",
     "text": [
      "SyncCursorPage[VectorStoreFile](data=[VectorStoreFile(id='file-1TYoyaaBCuda9UZk83cnS4', created_at=1750913410, last_error=None, object='vector_store.file', status='in_progress', usage_bytes=0, vector_store_id='vs_685cd181f51c8191a1917d95f8c9fd1a', attributes={}, chunking_strategy=StaticFileChunkingStrategyObject(static=StaticFileChunkingStrategy(chunk_overlap_tokens=400, max_chunk_size_tokens=800), type='static'))], has_more=False, object='list', first_id='file-1TYoyaaBCuda9UZk83cnS4', last_id='file-1TYoyaaBCuda9UZk83cnS4')\n"
     ]
    }
   ],
   "source": [
    "result_list = client.vector_stores.files.list(\n",
    "    vector_store_id=vector_store.id\n",
    ")\n",
    "\n",
    "print(result_list)"
   ]
  },
  {
   "cell_type": "code",
   "execution_count": 37,
   "id": "161bf4db",
   "metadata": {},
   "outputs": [
    {
     "name": "stdout",
     "output_type": "stream",
     "text": [
      "Response(id='resp_685cd1836d10819ab5cf1c3cd80e595301affa5d4c0dd025', created_at=1750913411.0, error=None, incomplete_details=None, instructions=None, metadata={}, model='gpt-4.1-2025-04-14', object='response', output=[ResponseFileSearchToolCall(id='fs_685cd1841e1c819abef53887e158825901affa5d4c0dd025', queries=['파이썬 소켓 만드는 방법', '파이썬 소켓 코드 예시', '파이썬 소켓 간단 설명', 'How to make a socket in Python'], status='completed', type='file_search_call', results=None), ResponseOutputMessage(id='msg_685cd186b040819a9e4b650c8326879101affa5d4c0dd025', content=[ResponseOutputText(annotations=[AnnotationFileCitation(file_id='file-1TYoyaaBCuda9UZk83cnS4', filename='howto-sockets.pdf', index=810, type='file_citation')], text='파이썬에서 소켓을 만드는 방법을 간단하게 설명하면 다음과 같습니다.\\n\\n### 1. 소켓 모듈 임포트\\n```python\\nimport socket\\n```\\n\\n### 2. 소켓 객체 생성\\n```python\\ns = socket.socket(socket.AF_INET, socket.SOCK_STREAM)\\n```\\n- `AF_INET`은 IPv4를, `SOCK_STREAM`은 TCP 프로토콜을 사용한다는 뜻입니다.\\n\\n### 3. 서버(수신자)와 클라이언트(송신자) 구분\\n\\n#### (1) 클라이언트 소켓 (접속하는 쪽)\\n```python\\ns.connect((\"www.python.org\", 80))  # (\"호스트\", 포트)\\n```\\n\\n#### (2) 서버 소켓 (대기하는 쪽)\\n```python\\n# 1) 주소와 포트 할당(바인드)\\ns.bind((\"localhost\", 12345))  # (\"호스트\", 포트)\\n# 2) 연결 요청 대기 상태로 설정\\ns.listen(5)  # 5는 연결 대기 큐의 크기\\n\\nwhile True:\\n    clientsocket, address = s.accept()  # 클라이언트 연결 기다리기\\n    # 연결된 클라이언트와 데이터 주고받기\\n```\\n\\n### 4. 데이터 송수신\\n- 데이터 보내기: `s.send(b\"메시지\")`\\n- 데이터 받기: `s.recv(1024)`  # 1024바이트까지 읽기\\n\\n### 5. 소켓 종료\\n```python\\ns.close()\\n```\\n\\n---\\n\\n서버와 클라이언트는 위와 같이 역할이 다르며, 보통 서버는 `bind`→`listen`→`accept`, 클라이언트는 `connect` 과정을 거칩니다.\\n\\n#### 참고 코드(서버):\\n```python\\nimport socket\\n\\ns = socket.socket(socket.AF_INET, socket.SOCK_STREAM)\\ns.bind((\"localhost\", 12345))\\ns.listen(1)\\nconn, addr = s.accept()\\ndata = conn.recv(1024)\\nconn.send(b\"Hello Client!\")\\nconn.close()\\ns.close()\\n```\\n\\n#### 참고 코드(클라이언트):\\n```python\\nimport socket\\n\\ns = socket.socket(socket.AF_INET, socket.SOCK_STREAM)\\ns.connect((\"localhost\", 12345))\\ns.send(b\"Hello Server!\")\\ndata = s.recv(1024)\\ns.close()\\n```\\n\\n간략하게 말하면, `socket.socket()`으로 소켓을 만들고, 서버라면 `bind`, `listen`, `accept`를, 클라이언트라면 `connect`를 차례대로 사용합니다. 송수신이 끝나면 `close()`로 소켓을 닫으면 됩니다.', type='output_text', logprobs=None)], role='assistant', status='completed', type='message')], parallel_tool_calls=True, temperature=1.0, tool_choice='required', tools=[FileSearchTool(type='file_search', vector_store_ids=['vs_685cd181f51c8191a1917d95f8c9fd1a'], filters=None, max_num_results=20, ranking_options=RankingOptions(ranker='auto', score_threshold=0.0))], top_p=1.0, background=False, max_output_tokens=None, previous_response_id=None, prompt=None, reasoning=Reasoning(effort=None, generate_summary=None, summary=None), service_tier='default', status='completed', text=ResponseTextConfig(format=ResponseFormatText(type='text')), truncation='disabled', usage=ResponseUsage(input_tokens=8594, input_tokens_details=InputTokensDetails(cached_tokens=0), output_tokens=649, output_tokens_details=OutputTokensDetails(reasoning_tokens=0), total_tokens=9243), user=None, max_tool_calls=None, store=True)\n"
     ]
    }
   ],
   "source": [
    "response = client.responses.create(\n",
    "    model='gpt-4.1',\n",
    "    input='파이썬 코드로 소켓 만드는 방법을 간단하게 설명해줘',\n",
    "    tools=[{\n",
    "        \"type\" : \"file_search\",\n",
    "        \"vector_store_ids\" : [vector_store.id]\n",
    "    }],\n",
    "    tool_choice='required'\n",
    ")\n",
    "\n",
    "print(response)"
   ]
  },
  {
   "cell_type": "code",
   "execution_count": 38,
   "id": "a2d69482",
   "metadata": {},
   "outputs": [
    {
     "name": "stdout",
     "output_type": "stream",
     "text": [
      "{'id': 'resp_685cd1836d10819ab5cf1c3cd80e595301affa5d4c0dd025', 'created_at': 1750913411.0, 'error': None, 'incomplete_details': None, 'instructions': None, 'metadata': {}, 'model': 'gpt-4.1-2025-04-14', 'object': 'response', 'output': [ResponseFileSearchToolCall(id='fs_685cd1841e1c819abef53887e158825901affa5d4c0dd025', queries=['파이썬 소켓 만드는 방법', '파이썬 소켓 코드 예시', '파이썬 소켓 간단 설명', 'How to make a socket in Python'], status='completed', type='file_search_call', results=None), ResponseOutputMessage(id='msg_685cd186b040819a9e4b650c8326879101affa5d4c0dd025', content=[ResponseOutputText(annotations=[AnnotationFileCitation(file_id='file-1TYoyaaBCuda9UZk83cnS4', filename='howto-sockets.pdf', index=810, type='file_citation')], text='파이썬에서 소켓을 만드는 방법을 간단하게 설명하면 다음과 같습니다.\\n\\n### 1. 소켓 모듈 임포트\\n```python\\nimport socket\\n```\\n\\n### 2. 소켓 객체 생성\\n```python\\ns = socket.socket(socket.AF_INET, socket.SOCK_STREAM)\\n```\\n- `AF_INET`은 IPv4를, `SOCK_STREAM`은 TCP 프로토콜을 사용한다는 뜻입니다.\\n\\n### 3. 서버(수신자)와 클라이언트(송신자) 구분\\n\\n#### (1) 클라이언트 소켓 (접속하는 쪽)\\n```python\\ns.connect((\"www.python.org\", 80))  # (\"호스트\", 포트)\\n```\\n\\n#### (2) 서버 소켓 (대기하는 쪽)\\n```python\\n# 1) 주소와 포트 할당(바인드)\\ns.bind((\"localhost\", 12345))  # (\"호스트\", 포트)\\n# 2) 연결 요청 대기 상태로 설정\\ns.listen(5)  # 5는 연결 대기 큐의 크기\\n\\nwhile True:\\n    clientsocket, address = s.accept()  # 클라이언트 연결 기다리기\\n    # 연결된 클라이언트와 데이터 주고받기\\n```\\n\\n### 4. 데이터 송수신\\n- 데이터 보내기: `s.send(b\"메시지\")`\\n- 데이터 받기: `s.recv(1024)`  # 1024바이트까지 읽기\\n\\n### 5. 소켓 종료\\n```python\\ns.close()\\n```\\n\\n---\\n\\n서버와 클라이언트는 위와 같이 역할이 다르며, 보통 서버는 `bind`→`listen`→`accept`, 클라이언트는 `connect` 과정을 거칩니다.\\n\\n#### 참고 코드(서버):\\n```python\\nimport socket\\n\\ns = socket.socket(socket.AF_INET, socket.SOCK_STREAM)\\ns.bind((\"localhost\", 12345))\\ns.listen(1)\\nconn, addr = s.accept()\\ndata = conn.recv(1024)\\nconn.send(b\"Hello Client!\")\\nconn.close()\\ns.close()\\n```\\n\\n#### 참고 코드(클라이언트):\\n```python\\nimport socket\\n\\ns = socket.socket(socket.AF_INET, socket.SOCK_STREAM)\\ns.connect((\"localhost\", 12345))\\ns.send(b\"Hello Server!\")\\ndata = s.recv(1024)\\ns.close()\\n```\\n\\n간략하게 말하면, `socket.socket()`으로 소켓을 만들고, 서버라면 `bind`, `listen`, `accept`를, 클라이언트라면 `connect`를 차례대로 사용합니다. 송수신이 끝나면 `close()`로 소켓을 닫으면 됩니다.', type='output_text', logprobs=None)], role='assistant', status='completed', type='message')], 'parallel_tool_calls': True, 'temperature': 1.0, 'tool_choice': 'required', 'tools': [FileSearchTool(type='file_search', vector_store_ids=['vs_685cd181f51c8191a1917d95f8c9fd1a'], filters=None, max_num_results=20, ranking_options=RankingOptions(ranker='auto', score_threshold=0.0))], 'top_p': 1.0, 'background': False, 'max_output_tokens': None, 'previous_response_id': None, 'prompt': None, 'reasoning': Reasoning(effort=None, generate_summary=None, summary=None), 'service_tier': 'default', 'status': 'completed', 'text': ResponseTextConfig(format=ResponseFormatText(type='text')), 'truncation': 'disabled', 'usage': ResponseUsage(input_tokens=8594, input_tokens_details=InputTokensDetails(cached_tokens=0), output_tokens=649, output_tokens_details=OutputTokensDetails(reasoning_tokens=0), total_tokens=9243), 'user': None, 'max_tool_calls': None, 'store': True}\n"
     ]
    }
   ],
   "source": [
    "print(dict(response))"
   ]
  },
  {
   "cell_type": "code",
   "execution_count": 39,
   "id": "5f2f00d0",
   "metadata": {},
   "outputs": [
    {
     "name": "stdout",
     "output_type": "stream",
     "text": [
      "Choice(finish_reason='stop', index=0, logprobs=None, message=ChatCompletionMessage(content='스타워즈 시리즈는 미래 은하계를 배경으로 선과 악의 대립, 가족의 비극과 영웅의 여정을 그린 SF 영화 프랜차이즈입니다.', refusal=None, role='assistant', annotations=[], audio=None, function_call=None, tool_calls=None))\n"
     ]
    }
   ],
   "source": [
    "completion = client.chat.completions.create(\n",
    "    model='gpt-4.1',\n",
    "    messages=[{\n",
    "        \"role\" : \"user\",\n",
    "        \"content\" : ' 스타워즈 시리즈에 대해 한 문장으로 설명해줘'\n",
    "    }]\n",
    ")\n",
    "\n",
    "print(completion.choices[0])"
   ]
  }
 ],
 "metadata": {
  "kernelspec": {
   "display_name": ".venv",
   "language": "python",
   "name": "python3"
  },
  "language_info": {
   "codemirror_mode": {
    "name": "ipython",
    "version": 3
   },
   "file_extension": ".py",
   "mimetype": "text/x-python",
   "name": "python",
   "nbconvert_exporter": "python",
   "pygments_lexer": "ipython3",
   "version": "3.9.13"
  }
 },
 "nbformat": 4,
 "nbformat_minor": 5
}
