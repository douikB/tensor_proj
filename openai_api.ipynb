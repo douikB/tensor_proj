{
 "cells": [
  {
   "cell_type": "code",
   "execution_count": 2,
   "id": "155e6573",
   "metadata": {},
   "outputs": [],
   "source": [
    "from dotenv import load_dotenv\n",
    "import os\n",
    "\n",
    "load_dotenv()\n",
    "\n",
    "OPENAI_API_KEY = os.getenv('OPENAI_API_KEY')"
   ]
  },
  {
   "cell_type": "code",
   "execution_count": 7,
   "id": "ecae6dec",
   "metadata": {},
   "outputs": [
    {
     "name": "stdout",
     "output_type": "stream",
     "text": [
      "다스 베이더는 스타워즈 시리즈에서 타락한 영웅이자 은하 제국의 암흑 군주로, 은하계의 운명을 뒤흔드는 중심 인물이다.\n"
     ]
    }
   ],
   "source": [
    "from openai import OpenAI\n",
    "\n",
    "client = OpenAI(api_key=OPENAI_API_KEY)\n",
    "\n",
    "response = client.responses.create(\n",
    "    model='gpt-4.1',\n",
    "    instructions='당신은 영화평론가야!',\n",
    "    input='스타워즈 시리즈의 다스베이더의 역할에 대해 한 줄로 설명해줘'\n",
    ")\n",
    "print(response.output_text)"
   ]
  },
  {
   "cell_type": "code",
   "execution_count": 8,
   "id": "5b1db157",
   "metadata": {},
   "outputs": [
    {
     "name": "stdout",
     "output_type": "stream",
     "text": [
      "정말 좋은 질문이야! 오늘은 기분이 어떤지, 그리고 어떤 음식을 먹고 싶은지에 따라 추천할 메뉴가 달라질 수 있어. 몇 가지 질문에 답해줄 수 있어?\n",
      "\n",
      "1. 집에 있는 재료로 뭘 만들고 싶어? 아니면 외식을 하고 싶어?\n",
      "2. 국, 찌개, 볶음, 면, 밥, 샐러드 등 어떤 종류가 땡겨?\n",
      "3. 매운 음식 좋아해?\n",
      "4. 가볍게 먹고 싶어, 든든하게 먹고 싶어?\n",
      "\n",
      "예를 들어,\n",
      "\n",
      "- **가볍고 건강하게**: 샐러드나 연어덮밥, 비빔국수\n",
      "- **든든하게**: 김치찌개, 된장찌개, 제육볶음, 치킨\n",
      "- **특별하게**: 떡볶이, 라멘, 파스타, 초밥\n",
      "- **외식**: 족발, 피자, 햄버거, 샤브샤브\n",
      "\n",
      "어떤 쪽이 끌려? 추가로 특정 재료나 선호하는 음식 있으면 알려줘!\n"
     ]
    }
   ],
   "source": [
    "response = client.responses.create(\n",
    "    model='gpt-4.1',\n",
    "    input=[\n",
    "        {\n",
    "            \"role\" : \"developer\",\n",
    "            \"content\" : '음식에 대한 이야기 하는 것을 좋아해'\n",
    "        },\n",
    "        {\n",
    "            \"role\" : \"user\",\n",
    "            \"content\" : '오늘은 무엇을 먹을까'\n",
    "        }\n",
    "    ]\n",
    ")\n",
    "print(response.output_text)"
   ]
  },
  {
   "cell_type": "code",
   "execution_count": null,
   "id": "f659ba21",
   "metadata": {},
   "outputs": [],
   "source": [
    "completion = client.chat.completions.create(\n",
    "    model='gpt-4.1',\n",
    "    messages=[\n",
    "        {\n",
    "            'role' : 'user',\n",
    "            'content' : '스타워즈 시리즈에 대해 한 문장으로 설명해줘'\n",
    "        }\n",
    "    ]\n",
    ")"
   ]
  },
  {
   "cell_type": "code",
   "execution_count": 16,
   "id": "d71b73ab",
   "metadata": {},
   "outputs": [
    {
     "data": {
      "text/plain": [
       "'스타워즈 시리즈는 먼 미래의 우주를 배경으로 제다이와 시스, 포스의 힘을 둘러싼 선과 악의 대결을 그린 SF 영화 시리즈입니다.'"
      ]
     },
     "execution_count": 16,
     "metadata": {},
     "output_type": "execute_result"
    }
   ],
   "source": [
    "# dict(completion.choices[0])\n",
    "completion.choices[0].message.content"
   ]
  },
  {
   "cell_type": "code",
   "execution_count": null,
   "id": "c67f3768",
   "metadata": {},
   "outputs": [
    {
     "name": "stdout",
     "output_type": "stream",
     "text": [
      "질문 :  토끼는 왜 코를 자꾸 움직이나요\n",
      "답변 :  토끼가 코를 자꾸 움직이는 이유에는 몇 가지 중요한 역할이 있습니다.\n",
      "\n",
      "1. **냄새를 잘 맡기 위해서**\n",
      "   - 토끼는 코를 움직이며 주변의 냄새를 더 잘 맡을 수 있습니다. 이 행동을 '코를 씰룩인다'고 표현하기도 하는데, 이렇게 하면 코 구멍(비공)이 넓어졌다 좁아졌다 하면서 공기가 더 많이, 더 다양하게 후각 기관에 들어옵니다. 천적의 냄새나 먹이 냄새 같은 중요한 정보를 모으기 위한 거죠.\n",
      "\n",
      "2. **의사 표현 및 경계 신호**\n",
      "   - 토끼는 불안하거나 경계할 때도 코를 빠르게 움직입니다. 평소보다 코가 더 빨리 움직인다면 주변에 신경을 쓰고 있다는 의미일 수 있습니다.\n",
      "\n",
      "3. **체온 조절**\n",
      "   - 코 움직임을 통해 호흡 속도를 조절할 수 있기 때문에 어느 정도 체온 조절에도 도움이 됩니다.\n",
      "\n",
      "요약하면, 토끼가 코를 움직이는 것은 외부 환경을 감지하고, 경계하며, 몸 상태를 조절하는 데 꼭 필요한 행동입니다. 아주 건강한 토끼의 자연스러운 습성이니 걱정하지 않으셔도 됩니다!\n"
     ]
    }
   ],
   "source": [
    "custom_input = input('질문을 남겨주세요. ')\n",
    "print('질문 : ', custom_input)\n",
    "\n",
    "completion = client.chat.completions.create(\n",
    "    model='gpt-4.1',\n",
    "    messages=[\n",
    "        {\n",
    "            'role' : 'user',\n",
    "            'content' : custom_input\n",
    "        }\n",
    "    ]\n",
    ")\n",
    "\n",
    "print('답변 : ', completion.choices[0].message.content)"
   ]
  },
  {
   "cell_type": "code",
   "execution_count": 36,
   "id": "30053570",
   "metadata": {},
   "outputs": [],
   "source": [
    "import requests\n",
    "\n",
    "def get_weather(latitude, longitude):\n",
    "    response = requests.get(f\"https://api.open-meteo.com/v1/forecast?latitude={latitude}&longitude={longitude}&current=temperature_2m,wind_speed_10m&hourly=temperature_2m,relative_humidity_2m,wind_speed_10m\")\n",
    "    data = response.json()\n",
    "    return data['current']['temperature_2m']"
   ]
  },
  {
   "cell_type": "code",
   "execution_count": 37,
   "id": "d460a24c",
   "metadata": {},
   "outputs": [],
   "source": [
    "tools = [{\n",
    "    \"type\": \"function\",\n",
    "    \"name\": \"get_weather\",\n",
    "    \"description\": \"Get current temperature for provided coordinates in celsius\",\n",
    "    \"parameters\": {\n",
    "        \"type\": \"object\",\n",
    "        \"properties\": {\n",
    "                \"latitude\": {\"type\": \"number\"},\n",
    "                \"longitude\": {\"type\": \"number\"}\n",
    "            },\n",
    "        \"required\": [\"latitude\", \"longitude\"],\n",
    "        \"additionalProperties\": False\n",
    "    },\n",
    "    \"strict\": True\n",
    "}]\n"
   ]
  },
  {
   "cell_type": "code",
   "execution_count": 38,
   "id": "70066a21",
   "metadata": {},
   "outputs": [
    {
     "data": {
      "text/plain": [
       "{'arguments': '{\"latitude\":48.8566,\"longitude\":2.3522}',\n",
       " 'call_id': 'call_RGh7uFqi3MEkAsDAImbT9WuD',\n",
       " 'name': 'get_weather',\n",
       " 'type': 'function_call',\n",
       " 'id': 'fc_685bb1ad1ca4819bb8b174a787ed775a0aa11903dcdfba93',\n",
       " 'status': 'completed'}"
      ]
     },
     "execution_count": 38,
     "metadata": {},
     "output_type": "execute_result"
    }
   ],
   "source": [
    "input_messages = [{\"role\": \"user\", \"content\": \" 오늘 파리 날씨 어때?\"}]\n",
    "response = client.responses.create(\n",
    "    model=\"gpt-4.1\",\n",
    "    input=input_messages,\n",
    "    tools=tools,\n",
    "    )\n",
    "\n",
    "dict(response.output[0])"
   ]
  },
  {
   "cell_type": "code",
   "execution_count": 39,
   "id": "05a6ed91",
   "metadata": {},
   "outputs": [
    {
     "name": "stdout",
     "output_type": "stream",
     "text": [
      "23.2\n"
     ]
    }
   ],
   "source": [
    "import json\n",
    "\n",
    "tool_call = response.output[0]\n",
    "args = json.loads(tool_call.arguments)\n",
    "\n",
    "result = get_weather(args['latitude'], args['longitude'])\n",
    "print(result)"
   ]
  },
  {
   "cell_type": "code",
   "execution_count": 40,
   "id": "775cf0b0",
   "metadata": {},
   "outputs": [
    {
     "name": "stdout",
     "output_type": "stream",
     "text": [
      "오늘 파리의 현재 기온은 약 23.2°C입니다. 날씨가 꽤 따뜻하네요! 더 자세한 정보나 다른 도시의 날씨가 궁금하신가요?\n"
     ]
    }
   ],
   "source": [
    "input_messages.append(tool_call)\n",
    "input_messages.append({\n",
    "    'type' : 'function_call_output',\n",
    "    'call_id' : tool_call.call_id,\n",
    "    'output' : str(result)\n",
    "})\n",
    "\n",
    "# 최종 응답\n",
    "response2 = client.responses.create(\n",
    "    model='gpt-4.1',\n",
    "    input=input_messages,\n",
    "    tools=tools\n",
    ")\n",
    "\n",
    "print(response2.output_text)"
   ]
  },
  {
   "cell_type": "code",
   "execution_count": null,
   "id": "659d42be",
   "metadata": {},
   "outputs": [],
   "source": []
  },
  {
   "cell_type": "code",
   "execution_count": null,
   "id": "1ea92014",
   "metadata": {},
   "outputs": [],
   "source": []
  },
  {
   "cell_type": "code",
   "execution_count": null,
   "id": "e6ef6a28",
   "metadata": {},
   "outputs": [],
   "source": []
  },
  {
   "cell_type": "code",
   "execution_count": null,
   "id": "f2aaa338",
   "metadata": {},
   "outputs": [],
   "source": []
  }
 ],
 "metadata": {
  "kernelspec": {
   "display_name": ".venv",
   "language": "python",
   "name": "python3"
  },
  "language_info": {
   "codemirror_mode": {
    "name": "ipython",
    "version": 3
   },
   "file_extension": ".py",
   "mimetype": "text/x-python",
   "name": "python",
   "nbconvert_exporter": "python",
   "pygments_lexer": "ipython3",
   "version": "3.9.13"
  }
 },
 "nbformat": 4,
 "nbformat_minor": 5
}
